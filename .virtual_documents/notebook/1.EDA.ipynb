


























import pandas as pd
import numpy as np
import seaborn as sns
import matplotlib.pyplot as plt
%matplotlib inline
import warnings
warnings.filterwarnings("ignore")





df = pd.read_csv(r"C:\Users\HP\Desktop\projects\Adult_census_Income_Prediction\notebook\data\adult.csv")





df.head()





df.shape

















df.isnull().sum()








df.duplicated().sum()





df = df.drop_duplicates()






# Check Null and Dtypes
df.info()





df.nunique()





df.describe()








df.head()


categorical_features = [ col  for col in df.columns if df[col].dtype=='O']
numerical_features = [ col  for col in df.columns if df[col].dtype!='O']


categorical_features


numerical_features


print(f"we have {len(categorical_features)} categorical_features")
print(f"we have {len(numerical_features)} numerical_features")


for feature in categorical_features :
    print(f"Categories in {feature} variable:     ",end=" " )
    print(df[feature].unique())
    print("\n\n")





(df==' ?').sum()


# For convenience lets replace ? with nan
df=df.replace(' ?',np.nan)
df.isnull().sum()





for col in ['workclass','occupation','country']:
    print(f" Missing percentage of {col} is {(df[col].isnull().sum()/df.shape[0])*100} %")


# Filling the missing values

print(df['workclass'].mode()[0])
print(df['occupation'].mode())
print(df['country'].mode())


# Lets Fill the missing value 

df['workclass']=df['workclass'].fillna(df['workclass'].mode()[0])
df['occupation']=df['occupation'].fillna(df['occupation'].mode()[0])
df['country']=df['country'].fillna(df['country'].mode()[0])


df.isnull().sum()








df.to_csv("C:/Users/HP/Desktop/projects/Adult_census_Income_Prediction/notebook/data/cleaned_Adult_dataset.csv",index=False)



